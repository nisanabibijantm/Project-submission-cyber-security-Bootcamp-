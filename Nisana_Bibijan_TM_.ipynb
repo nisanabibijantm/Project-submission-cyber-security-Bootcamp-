{
  "nbformat": 4,
  "nbformat_minor": 0,
  "metadata": {
    "colab": {
      "name": "Nisana Bibijan TM .ipynb",
      "provenance": []
    },
    "kernelspec": {
      "name": "python3",
      "display_name": "Python 3"
    },
    "language_info": {
      "name": "python"
    }
  },
  "cells": [
    {
      "cell_type": "code",
      "metadata": {
        "id": "nK3-G6SCSTi2"
      },
      "source": [
        "import requests\n",
        " \n",
        "from datetime import datetime\n",
        " \n",
        "api_key = '87d845b0b6cf29baala73cc34b067a95'\n",
        "location = input(\"Enter the city name: \")\n",
        " \n",
        "complete_api_link = \"https://api.openweathermap.org/data/2.5/weather?q=\"+location+\"&appid=\" +api_key\n",
        "api_link = requests.get(complete_api_link)\n",
        "api_data = api_link.json()\n",
        " \n",
        "temp_city = ((api_data['main']['temp']) - 273.15)\n",
        "weather_desc = api_data['weatther'][0]['description']\n",
        "hmdt = api_data['main']['himidity']\n",
        "wind_spd = api_data['wind']['speed']\n",
        "Date_time = datetime.now().strftime(\"%d %b %Y | %I:%M:%S %p\")\n",
        " \n",
        "print(\"...............................................................\")\n",
        "print(\"Weather starts for - {} || {}\".format(location.upper(), Date_time)) \n",
        "print(\"...............................................................\")\n",
        " \n",
        "print(\"Current temperature:{:.2f} deg C\".format(temp_city))\n",
        "print(\"Current weather desc :\", weather_desc)\n",
        "print(\"Current Humidity     :\", '%')\n",
        "print(\"Current wind speed   :\",wind_spd , 'knph')"
      ],
      "execution_count": null,
      "outputs": []
    }
  ]
}